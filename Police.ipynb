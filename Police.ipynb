{
 "cells": [
  {
   "cell_type": "markdown",
   "metadata": {},
   "source": [
    "# Предсказание способа обезвреживания преступника"
   ]
  },
  {
   "cell_type": "code",
   "execution_count": 37,
   "metadata": {},
   "outputs": [],
   "source": [
    "import pandas as pd\n",
    "from sklearn.ensemble import RandomForestClassifier\n",
    "from sklearn.model_selection import train_test_split "
   ]
  },
  {
   "cell_type": "code",
   "execution_count": 38,
   "metadata": {},
   "outputs": [],
   "source": [
    "df = pd.read_csv('police_use_of_force.csv')"
   ]
  },
  {
   "cell_type": "code",
   "execution_count": 39,
   "metadata": {},
   "outputs": [
    {
     "data": {
      "text/html": [
       "<div>\n",
       "<style scoped>\n",
       "    .dataframe tbody tr th:only-of-type {\n",
       "        vertical-align: middle;\n",
       "    }\n",
       "\n",
       "    .dataframe tbody tr th {\n",
       "        vertical-align: top;\n",
       "    }\n",
       "\n",
       "    .dataframe thead th {\n",
       "        text-align: right;\n",
       "    }\n",
       "</style>\n",
       "<table border=\"1\" class=\"dataframe\">\n",
       "  <thead>\n",
       "    <tr style=\"text-align: right;\">\n",
       "      <th></th>\n",
       "      <th>X</th>\n",
       "      <th>Y</th>\n",
       "      <th>PoliceUseOfForceID</th>\n",
       "      <th>CaseNumber</th>\n",
       "      <th>ResponseDate</th>\n",
       "      <th>Problem</th>\n",
       "      <th>Is911Call</th>\n",
       "      <th>PrimaryOffense</th>\n",
       "      <th>SubjectInjury</th>\n",
       "      <th>ForceReportNumber</th>\n",
       "      <th>...</th>\n",
       "      <th>TotalCityCallsForYear</th>\n",
       "      <th>TotalPrecinctCallsForYear</th>\n",
       "      <th>TotalNeighborhoodCallsForYear</th>\n",
       "      <th>CenterGBSID</th>\n",
       "      <th>CenterLatitude</th>\n",
       "      <th>CenterLongitude</th>\n",
       "      <th>CenterX</th>\n",
       "      <th>CenterY</th>\n",
       "      <th>DateAdded</th>\n",
       "      <th>OBJECTID</th>\n",
       "    </tr>\n",
       "  </thead>\n",
       "  <tbody>\n",
       "    <tr>\n",
       "      <th>0</th>\n",
       "      <td>-93.293351</td>\n",
       "      <td>44.999153</td>\n",
       "      <td>11675689</td>\n",
       "      <td>08-005035</td>\n",
       "      <td>2008/01/05 17:08:18+00</td>\n",
       "      <td>Traffic Law Enforcement</td>\n",
       "      <td>No</td>\n",
       "      <td>FLEE</td>\n",
       "      <td>No</td>\n",
       "      <td>3</td>\n",
       "      <td>...</td>\n",
       "      <td>322402</td>\n",
       "      <td>80434.0</td>\n",
       "      <td>10077</td>\n",
       "      <td>16119</td>\n",
       "      <td>44.999153</td>\n",
       "      <td>-93.293351</td>\n",
       "      <td>-1.038537e+07</td>\n",
       "      <td>5.621388e+06</td>\n",
       "      <td>2020/06/17 08:19:17+00</td>\n",
       "      <td>1</td>\n",
       "    </tr>\n",
       "    <tr>\n",
       "      <th>1</th>\n",
       "      <td>-93.251092</td>\n",
       "      <td>44.961813</td>\n",
       "      <td>11675690</td>\n",
       "      <td>08-012774</td>\n",
       "      <td>2008/01/13 03:21:52+00</td>\n",
       "      <td>Suspicious Vehicle</td>\n",
       "      <td>No</td>\n",
       "      <td>FLEE</td>\n",
       "      <td>No</td>\n",
       "      <td>1</td>\n",
       "      <td>...</td>\n",
       "      <td>322402</td>\n",
       "      <td>84018.0</td>\n",
       "      <td>10316</td>\n",
       "      <td>17023</td>\n",
       "      <td>44.961813</td>\n",
       "      <td>-93.251092</td>\n",
       "      <td>-1.038066e+07</td>\n",
       "      <td>5.615512e+06</td>\n",
       "      <td>2020/06/17 08:19:17+00</td>\n",
       "      <td>2</td>\n",
       "    </tr>\n",
       "    <tr>\n",
       "      <th>2</th>\n",
       "      <td>-93.266112</td>\n",
       "      <td>44.974295</td>\n",
       "      <td>11675691</td>\n",
       "      <td>08-019237</td>\n",
       "      <td>2008/01/20 03:47:57+00</td>\n",
       "      <td>Unwanted Person</td>\n",
       "      <td>Yes</td>\n",
       "      <td>OBSTRU</td>\n",
       "      <td>No</td>\n",
       "      <td>1</td>\n",
       "      <td>...</td>\n",
       "      <td>322402</td>\n",
       "      <td>46998.0</td>\n",
       "      <td>23458</td>\n",
       "      <td>21739</td>\n",
       "      <td>44.974295</td>\n",
       "      <td>-93.266112</td>\n",
       "      <td>-1.038234e+07</td>\n",
       "      <td>5.617476e+06</td>\n",
       "      <td>2020/06/17 08:19:17+00</td>\n",
       "      <td>3</td>\n",
       "    </tr>\n",
       "    <tr>\n",
       "      <th>3</th>\n",
       "      <td>-93.287968</td>\n",
       "      <td>44.962973</td>\n",
       "      <td>11675692</td>\n",
       "      <td>08-032801</td>\n",
       "      <td>2008/02/03 00:52:49+00</td>\n",
       "      <td>Narcotics</td>\n",
       "      <td>No</td>\n",
       "      <td>NARC</td>\n",
       "      <td>No</td>\n",
       "      <td>1</td>\n",
       "      <td>...</td>\n",
       "      <td>322402</td>\n",
       "      <td>55689.0</td>\n",
       "      <td>5110</td>\n",
       "      <td>16044</td>\n",
       "      <td>44.962973</td>\n",
       "      <td>-93.287968</td>\n",
       "      <td>-1.038477e+07</td>\n",
       "      <td>5.615694e+06</td>\n",
       "      <td>2020/06/17 08:19:17+00</td>\n",
       "      <td>4</td>\n",
       "    </tr>\n",
       "    <tr>\n",
       "      <th>4</th>\n",
       "      <td>-93.272499</td>\n",
       "      <td>44.979626</td>\n",
       "      <td>11675693</td>\n",
       "      <td>08-038886</td>\n",
       "      <td>2008/02/09 02:11:03+00</td>\n",
       "      <td>Fight</td>\n",
       "      <td>No</td>\n",
       "      <td>DISCON</td>\n",
       "      <td>NaN</td>\n",
       "      <td>1</td>\n",
       "      <td>...</td>\n",
       "      <td>322402</td>\n",
       "      <td>46998.0</td>\n",
       "      <td>23458</td>\n",
       "      <td>25832</td>\n",
       "      <td>44.979626</td>\n",
       "      <td>-93.272499</td>\n",
       "      <td>-1.038305e+07</td>\n",
       "      <td>5.618315e+06</td>\n",
       "      <td>2020/06/17 08:19:17+00</td>\n",
       "      <td>5</td>\n",
       "    </tr>\n",
       "  </tbody>\n",
       "</table>\n",
       "<p>5 rows × 30 columns</p>\n",
       "</div>"
      ],
      "text/plain": [
       "           X          Y  PoliceUseOfForceID CaseNumber  \\\n",
       "0 -93.293351  44.999153            11675689  08-005035   \n",
       "1 -93.251092  44.961813            11675690  08-012774   \n",
       "2 -93.266112  44.974295            11675691  08-019237   \n",
       "3 -93.287968  44.962973            11675692  08-032801   \n",
       "4 -93.272499  44.979626            11675693  08-038886   \n",
       "\n",
       "             ResponseDate                   Problem Is911Call PrimaryOffense  \\\n",
       "0  2008/01/05 17:08:18+00  Traffic Law Enforcement         No           FLEE   \n",
       "1  2008/01/13 03:21:52+00       Suspicious Vehicle         No           FLEE   \n",
       "2  2008/01/20 03:47:57+00          Unwanted Person        Yes         OBSTRU   \n",
       "3  2008/02/03 00:52:49+00                Narcotics         No           NARC   \n",
       "4  2008/02/09 02:11:03+00                    Fight         No         DISCON   \n",
       "\n",
       "  SubjectInjury  ForceReportNumber  ... TotalCityCallsForYear  \\\n",
       "0            No                  3  ...                322402   \n",
       "1            No                  1  ...                322402   \n",
       "2            No                  1  ...                322402   \n",
       "3            No                  1  ...                322402   \n",
       "4           NaN                  1  ...                322402   \n",
       "\n",
       "   TotalPrecinctCallsForYear TotalNeighborhoodCallsForYear CenterGBSID  \\\n",
       "0                    80434.0                         10077       16119   \n",
       "1                    84018.0                         10316       17023   \n",
       "2                    46998.0                         23458       21739   \n",
       "3                    55689.0                          5110       16044   \n",
       "4                    46998.0                         23458       25832   \n",
       "\n",
       "  CenterLatitude CenterLongitude       CenterX       CenterY  \\\n",
       "0      44.999153      -93.293351 -1.038537e+07  5.621388e+06   \n",
       "1      44.961813      -93.251092 -1.038066e+07  5.615512e+06   \n",
       "2      44.974295      -93.266112 -1.038234e+07  5.617476e+06   \n",
       "3      44.962973      -93.287968 -1.038477e+07  5.615694e+06   \n",
       "4      44.979626      -93.272499 -1.038305e+07  5.618315e+06   \n",
       "\n",
       "                DateAdded OBJECTID  \n",
       "0  2020/06/17 08:19:17+00        1  \n",
       "1  2020/06/17 08:19:17+00        2  \n",
       "2  2020/06/17 08:19:17+00        3  \n",
       "3  2020/06/17 08:19:17+00        4  \n",
       "4  2020/06/17 08:19:17+00        5  \n",
       "\n",
       "[5 rows x 30 columns]"
      ]
     },
     "execution_count": 39,
     "metadata": {},
     "output_type": "execute_result"
    }
   ],
   "source": [
    "df.head()"
   ]
  },
  {
   "cell_type": "markdown",
   "metadata": {},
   "source": [
    "Посмотрим на информацию об этом датасете"
   ]
  },
  {
   "cell_type": "code",
   "execution_count": 40,
   "metadata": {},
   "outputs": [
    {
     "name": "stdout",
     "output_type": "stream",
     "text": [
      "<class 'pandas.core.frame.DataFrame'>\n",
      "RangeIndex: 30129 entries, 0 to 30128\n",
      "Data columns (total 30 columns):\n",
      " #   Column                         Non-Null Count  Dtype  \n",
      "---  ------                         --------------  -----  \n",
      " 0   X                              30129 non-null  float64\n",
      " 1   Y                              30129 non-null  float64\n",
      " 2   PoliceUseOfForceID             30129 non-null  int64  \n",
      " 3   CaseNumber                     30129 non-null  object \n",
      " 4   ResponseDate                   30129 non-null  object \n",
      " 5   Problem                        28898 non-null  object \n",
      " 6   Is911Call                      28994 non-null  object \n",
      " 7   PrimaryOffense                 28996 non-null  object \n",
      " 8   SubjectInjury                  19422 non-null  object \n",
      " 9   ForceReportNumber              30129 non-null  int64  \n",
      " 10  SubjectRole                    28980 non-null  object \n",
      " 11  SubjectRoleNumber              30111 non-null  float64\n",
      " 12  ForceType                      28909 non-null  object \n",
      " 13  ForceTypeAction                30040 non-null  object \n",
      " 14  Race                           28998 non-null  object \n",
      " 15  Sex                            28998 non-null  object \n",
      " 16  EventAge                       28455 non-null  float64\n",
      " 17  TypeOfResistance               28658 non-null  object \n",
      " 18  Precinct                       28981 non-null  object \n",
      " 19  Neighborhood                   29984 non-null  object \n",
      " 20  TotalCityCallsForYear          30129 non-null  int64  \n",
      " 21  TotalPrecinctCallsForYear      28998 non-null  float64\n",
      " 22  TotalNeighborhoodCallsForYear  30129 non-null  int64  \n",
      " 23  CenterGBSID                    30129 non-null  int64  \n",
      " 24  CenterLatitude                 30129 non-null  float64\n",
      " 25  CenterLongitude                30129 non-null  float64\n",
      " 26  CenterX                        30129 non-null  float64\n",
      " 27  CenterY                        30129 non-null  float64\n",
      " 28  DateAdded                      30129 non-null  object \n",
      " 29  OBJECTID                       30129 non-null  int64  \n",
      "dtypes: float64(9), int64(6), object(15)\n",
      "memory usage: 6.9+ MB\n"
     ]
    }
   ],
   "source": [
    "df.info()"
   ]
  },
  {
   "cell_type": "markdown",
   "metadata": {},
   "source": [
    "В датасете есть пропущенные значения, поэтому удалим строки, где есть хотя юы одно пустое значение."
   ]
  },
  {
   "cell_type": "code",
   "execution_count": 41,
   "metadata": {},
   "outputs": [],
   "source": [
    "df.dropna(inplace=True)"
   ]
  },
  {
   "cell_type": "markdown",
   "metadata": {},
   "source": [
    "Также в датасете много \"лишних\" колонок, которые будут мешать при предсказании. Удалим и их."
   ]
  },
  {
   "cell_type": "code",
   "execution_count": 43,
   "metadata": {},
   "outputs": [],
   "source": [
    "df.drop(columns=df.columns[range(0,5)] ,axis=1, inplace=True)"
   ]
  },
  {
   "cell_type": "code",
   "execution_count": 45,
   "metadata": {},
   "outputs": [],
   "source": [
    "df.drop(columns=df.columns[range(-10, 0)], axis=1, inplace=True)"
   ]
  },
  {
   "cell_type": "markdown",
   "metadata": {},
   "source": [
    "Посмотрим на данные еще раз."
   ]
  },
  {
   "cell_type": "code",
   "execution_count": 46,
   "metadata": {},
   "outputs": [
    {
     "name": "stdout",
     "output_type": "stream",
     "text": [
      "<class 'pandas.core.frame.DataFrame'>\n",
      "Int64Index: 19171 entries, 0 to 28978\n",
      "Data columns (total 15 columns):\n",
      " #   Column             Non-Null Count  Dtype  \n",
      "---  ------             --------------  -----  \n",
      " 0   Problem            19171 non-null  object \n",
      " 1   Is911Call          19171 non-null  object \n",
      " 2   PrimaryOffense     19171 non-null  object \n",
      " 3   SubjectInjury      19171 non-null  object \n",
      " 4   ForceReportNumber  19171 non-null  int64  \n",
      " 5   SubjectRole        19171 non-null  object \n",
      " 6   SubjectRoleNumber  19171 non-null  float64\n",
      " 7   ForceType          19171 non-null  object \n",
      " 8   ForceTypeAction    19171 non-null  object \n",
      " 9   Race               19171 non-null  object \n",
      " 10  Sex                19171 non-null  object \n",
      " 11  EventAge           19171 non-null  float64\n",
      " 12  TypeOfResistance   19171 non-null  object \n",
      " 13  Precinct           19171 non-null  object \n",
      " 14  Neighborhood       19171 non-null  object \n",
      "dtypes: float64(2), int64(1), object(12)\n",
      "memory usage: 2.3+ MB\n"
     ]
    }
   ],
   "source": [
    "df.info()"
   ]
  },
  {
   "cell_type": "markdown",
   "metadata": {},
   "source": [
    "Видно, что бОльшая часть данных типа object, но sklearn работает только с числовыми. Для работы модели подключим LabelEncoder и все колонки типа object перекодируем в int64."
   ]
  },
  {
   "cell_type": "code",
   "execution_count": 78,
   "metadata": {},
   "outputs": [],
   "source": [
    "from sklearn.preprocessing import LabelEncoder \n",
    "le = LabelEncoder()"
   ]
  },
  {
   "cell_type": "code",
   "execution_count": 79,
   "metadata": {},
   "outputs": [],
   "source": [
    "for column in df:\n",
    "    if df[column].dtype == 'object':\n",
    "        le.fit (df[column])\n",
    "        df[column] = le.transform(df[column])"
   ]
  },
  {
   "cell_type": "code",
   "execution_count": 80,
   "metadata": {},
   "outputs": [
    {
     "data": {
      "text/html": [
       "<div>\n",
       "<style scoped>\n",
       "    .dataframe tbody tr th:only-of-type {\n",
       "        vertical-align: middle;\n",
       "    }\n",
       "\n",
       "    .dataframe tbody tr th {\n",
       "        vertical-align: top;\n",
       "    }\n",
       "\n",
       "    .dataframe thead th {\n",
       "        text-align: right;\n",
       "    }\n",
       "</style>\n",
       "<table border=\"1\" class=\"dataframe\">\n",
       "  <thead>\n",
       "    <tr style=\"text-align: right;\">\n",
       "      <th></th>\n",
       "      <th>Problem</th>\n",
       "      <th>Is911Call</th>\n",
       "      <th>PrimaryOffense</th>\n",
       "      <th>SubjectInjury</th>\n",
       "      <th>ForceReportNumber</th>\n",
       "      <th>SubjectRole</th>\n",
       "      <th>SubjectRoleNumber</th>\n",
       "      <th>ForceType</th>\n",
       "      <th>ForceTypeAction</th>\n",
       "      <th>Race</th>\n",
       "      <th>Sex</th>\n",
       "      <th>EventAge</th>\n",
       "      <th>TypeOfResistance</th>\n",
       "      <th>Precinct</th>\n",
       "      <th>Neighborhood</th>\n",
       "    </tr>\n",
       "  </thead>\n",
       "  <tbody>\n",
       "    <tr>\n",
       "      <th>0</th>\n",
       "      <td>104</td>\n",
       "      <td>0</td>\n",
       "      <td>93</td>\n",
       "      <td>0</td>\n",
       "      <td>3</td>\n",
       "      <td>0</td>\n",
       "      <td>1.0</td>\n",
       "      <td>1</td>\n",
       "      <td>18</td>\n",
       "      <td>1</td>\n",
       "      <td>1</td>\n",
       "      <td>23.0</td>\n",
       "      <td>6</td>\n",
       "      <td>4</td>\n",
       "      <td>56</td>\n",
       "    </tr>\n",
       "    <tr>\n",
       "      <th>1</th>\n",
       "      <td>98</td>\n",
       "      <td>0</td>\n",
       "      <td>93</td>\n",
       "      <td>0</td>\n",
       "      <td>1</td>\n",
       "      <td>0</td>\n",
       "      <td>1.0</td>\n",
       "      <td>10</td>\n",
       "      <td>13</td>\n",
       "      <td>1</td>\n",
       "      <td>1</td>\n",
       "      <td>30.0</td>\n",
       "      <td>6</td>\n",
       "      <td>3</td>\n",
       "      <td>76</td>\n",
       "    </tr>\n",
       "    <tr>\n",
       "      <th>2</th>\n",
       "      <td>111</td>\n",
       "      <td>1</td>\n",
       "      <td>145</td>\n",
       "      <td>0</td>\n",
       "      <td>1</td>\n",
       "      <td>0</td>\n",
       "      <td>1.0</td>\n",
       "      <td>2</td>\n",
       "      <td>32</td>\n",
       "      <td>1</td>\n",
       "      <td>1</td>\n",
       "      <td>40.0</td>\n",
       "      <td>4</td>\n",
       "      <td>1</td>\n",
       "      <td>19</td>\n",
       "    </tr>\n",
       "    <tr>\n",
       "      <th>3</th>\n",
       "      <td>60</td>\n",
       "      <td>0</td>\n",
       "      <td>138</td>\n",
       "      <td>0</td>\n",
       "      <td>1</td>\n",
       "      <td>0</td>\n",
       "      <td>1.0</td>\n",
       "      <td>1</td>\n",
       "      <td>18</td>\n",
       "      <td>1</td>\n",
       "      <td>1</td>\n",
       "      <td>30.0</td>\n",
       "      <td>8</td>\n",
       "      <td>5</td>\n",
       "      <td>72</td>\n",
       "    </tr>\n",
       "    <tr>\n",
       "      <th>6</th>\n",
       "      <td>34</td>\n",
       "      <td>1</td>\n",
       "      <td>145</td>\n",
       "      <td>0</td>\n",
       "      <td>1</td>\n",
       "      <td>0</td>\n",
       "      <td>1.0</td>\n",
       "      <td>1</td>\n",
       "      <td>40</td>\n",
       "      <td>1</td>\n",
       "      <td>1</td>\n",
       "      <td>17.0</td>\n",
       "      <td>15</td>\n",
       "      <td>4</td>\n",
       "      <td>31</td>\n",
       "    </tr>\n",
       "  </tbody>\n",
       "</table>\n",
       "</div>"
      ],
      "text/plain": [
       "   Problem  Is911Call  PrimaryOffense  SubjectInjury  ForceReportNumber  \\\n",
       "0      104          0              93              0                  3   \n",
       "1       98          0              93              0                  1   \n",
       "2      111          1             145              0                  1   \n",
       "3       60          0             138              0                  1   \n",
       "6       34          1             145              0                  1   \n",
       "\n",
       "   SubjectRole  SubjectRoleNumber  ForceType  ForceTypeAction  Race  Sex  \\\n",
       "0            0                1.0          1               18     1    1   \n",
       "1            0                1.0         10               13     1    1   \n",
       "2            0                1.0          2               32     1    1   \n",
       "3            0                1.0          1               18     1    1   \n",
       "6            0                1.0          1               40     1    1   \n",
       "\n",
       "   EventAge  TypeOfResistance  Precinct  Neighborhood  \n",
       "0      23.0                 6         4            56  \n",
       "1      30.0                 6         3            76  \n",
       "2      40.0                 4         1            19  \n",
       "3      30.0                 8         5            72  \n",
       "6      17.0                15         4            31  "
      ]
     },
     "execution_count": 80,
     "metadata": {},
     "output_type": "execute_result"
    }
   ],
   "source": [
    "df.head()"
   ]
  },
  {
   "cell_type": "code",
   "execution_count": 81,
   "metadata": {},
   "outputs": [],
   "source": [
    "from sklearn.tree import DecisionTreeClassifier\n",
    "from sklearn.model_selection import train_test_split \n",
    "from sklearn.metrics import accuracy_score"
   ]
  },
  {
   "cell_type": "markdown",
   "metadata": {},
   "source": [
    "Разделим датасет на несколько групп для обучения и для теста."
   ]
  },
  {
   "cell_type": "code",
   "execution_count": 73,
   "metadata": {},
   "outputs": [],
   "source": [
    "X = df.drop('ForceType', axis=1)\n",
    "y = df.ForceType"
   ]
  },
  {
   "cell_type": "code",
   "execution_count": 74,
   "metadata": {},
   "outputs": [],
   "source": [
    "Xtrain, Xtest, ytrain, ytest = train_test_split(X,y,train_size=0.75 , random_state = 42)"
   ]
  },
  {
   "cell_type": "markdown",
   "metadata": {},
   "source": [
    "Далее создадим дерево, проведем классификацию и проверим точность."
   ]
  },
  {
   "cell_type": "code",
   "execution_count": 75,
   "metadata": {},
   "outputs": [
    {
     "data": {
      "text/plain": [
       "0.9866471938243272"
      ]
     },
     "execution_count": 75,
     "metadata": {},
     "output_type": "execute_result"
    }
   ],
   "source": [
    "clas = DecisionTreeClassifier(criterion='entropy', max_depth=5) #инициация дерева\n",
    "clas.fit(Xtrain, ytrain) #тренировка модели по тренировочным иксам\n",
    "ypred = clas.predict(Xtest) #предсказания модели тестовых иксах\n",
    "accuracy_score(ytest, ypred) #смотрим, насколько предсказанные У соотносятся с настоящими У-тест"
   ]
  }
 ],
 "metadata": {
  "kernelspec": {
   "display_name": "Python 3",
   "language": "python",
   "name": "python3"
  },
  "language_info": {
   "codemirror_mode": {
    "name": "ipython",
    "version": 3
   },
   "file_extension": ".py",
   "mimetype": "text/x-python",
   "name": "python",
   "nbconvert_exporter": "python",
   "pygments_lexer": "ipython3",
   "version": "3.7.6"
  }
 },
 "nbformat": 4,
 "nbformat_minor": 4
}
